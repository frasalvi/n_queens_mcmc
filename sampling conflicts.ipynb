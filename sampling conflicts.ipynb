{
 "cells": [
  {
   "cell_type": "code",
   "execution_count": 1,
   "metadata": {},
   "outputs": [],
   "source": [
    "import numpy as np\n",
    "import pandas as pd\n",
    "import matplotlib.pyplot as plt\n",
    "import seaborn as sns\n",
    "from time import time\n",
    "from metropolis_w_sampling import run_metropolis_w_sampling\n",
    "import matplotlib.pyplot as plt"
   ]
  },
  {
   "cell_type": "code",
   "execution_count": 29,
   "metadata": {},
   "outputs": [
    {
     "name": "stdout",
     "output_type": "stream",
     "text": [
      "[0.3333333333333333, 0.6666666666666666, 1.0, 1.3333333333333333, 1.6666666666666667, 2.0, 2.3333333333333335, 2.6666666666666665, 3.0, 3.3333333333333335, 3.6666666666666665, 4.0, 4.333333333333333, 4.666666666666667, 5.0, 5.333333333333333, 5.666666666666667, 6.0, 6.333333333333333, 6.666666666666667, 7.0, 7.333333333333333, 7.666666666666667, 8.0, 8.333333333333334, 8.666666666666666, 9.0, 9.333333333333334, 9.666666666666666, 10.0]\n"
     ]
    }
   ],
   "source": [
    "N = 26\n",
    "M = 5000\n",
    "\n",
    "beta_star = 10\n",
    "max_moves = 10000000\n",
    "T = 30\n",
    "beta_grid = []\n",
    "for t in range(T):\n",
    "    beta_t = ((t + 1) * beta_star) / T\n",
    "    beta_grid.append(beta_t)\n",
    "    \n",
    "print(beta_grid)"
   ]
  },
  {
   "cell_type": "code",
   "execution_count": 30,
   "metadata": {},
   "outputs": [
    {
     "name": "stdout",
     "output_type": "stream",
     "text": [
      "0.3333333333333333\n",
      "15001\n",
      "0.6666666666666666\n",
      "15001\n",
      "1.0\n",
      "15001\n",
      "1.3333333333333333\n",
      "15001\n",
      "1.6666666666666667\n",
      "15001\n",
      "2.0\n",
      "15001\n",
      "2.3333333333333335\n",
      "9249\n",
      "2.6666666666666665\n",
      "7458\n",
      "3.0\n",
      "5128\n",
      "3.3333333333333335\n",
      "12036\n",
      "3.6666666666666665\n",
      "7107\n",
      "4.0\n",
      "5371\n",
      "4.333333333333333\n",
      "8176\n",
      "4.666666666666667\n",
      "5332\n",
      "5.0\n",
      "5471\n",
      "5.333333333333333\n",
      "5720\n",
      "5.666666666666667\n",
      "5165\n",
      "6.0\n",
      "6066\n",
      "6.333333333333333\n",
      "6224\n",
      "6.666666666666667\n",
      "7258\n",
      "7.0\n",
      "6060\n",
      "7.333333333333333\n",
      "5626\n",
      "7.666666666666667\n",
      "5633\n",
      "8.0\n",
      "6418\n",
      "8.333333333333334\n",
      "7048\n",
      "8.666666666666666\n",
      "7224\n",
      "9.0\n",
      "6620\n",
      "9.333333333333334\n",
      "6212\n",
      "9.666666666666666\n",
      "6337\n",
      "10.0\n",
      "5401\n"
     ]
    }
   ],
   "source": [
    "#### get samples from pi_beta ####\n",
    "beta_samples  = []\n",
    "\n",
    "for beta in beta_grid:\n",
    "    iters, conflict_ratios, samples = run_metropolis_w_sampling(\n",
    "        N, max_moves, beta, M, beta_strategy=\"fixed\", strategy_params=None, debug=False\n",
    "    )\n",
    "    \n",
    "    beta_samples.append(samples)\n",
    "    print(beta)\n",
    "    #print(samples)\n",
    "    print(iters)\n"
   ]
  },
  {
   "cell_type": "code",
   "execution_count": 31,
   "metadata": {},
   "outputs": [
    {
     "name": "stdout",
     "output_type": "stream",
     "text": [
      "0.022527381374057392\n",
      "0.04900158518959565\n",
      "0.08021501814203312\n",
      "0.14682150250798645\n",
      "0.18036031362487534\n",
      "0.27668127616284066\n",
      "0.2835052151992285\n",
      "0.4475236825517979\n",
      "0.6070497075848873\n",
      "0.6483689169661929\n",
      "0.6714284620102328\n",
      "0.7381012563468444\n",
      "0.8239611759541476\n",
      "0.8227145506018162\n",
      "0.9842649435806965\n",
      "0.9668431048068585\n",
      "0.9127588769125561\n",
      "0.9499961231852165\n",
      "1.0\n",
      "0.9769256486807065\n",
      "0.970462562561789\n",
      "1.0\n",
      "1.0\n",
      "1.0\n",
      "1.0\n",
      "1.0\n",
      "1.0\n",
      "1.0\n",
      "1.0\n"
     ]
    }
   ],
   "source": [
    "## estimate Z_beta from the samples ##\n",
    "##1/M sumM exp(−(βt+1 − βt) f(Xk))\n",
    "z_t_ratios = []\n",
    "\n",
    "for i, sample in enumerate(beta_samples):\n",
    "    if i < len(beta_grid)-1:\n",
    "        z_t1_over_z_t = np.mean(np.exp(-(beta_grid[i+1] - beta_grid[i]) * np.float_(sample)))\n",
    "        print(z_t1_over_z_t)\n",
    "        z_t_ratios.append(z_t1_over_z_t)\n",
    "        \n",
    "\n",
    "        "
   ]
  },
  {
   "cell_type": "code",
   "execution_count": 32,
   "metadata": {},
   "outputs": [],
   "source": [
    "log_zt_z0 = []\n",
    "for i in range(len(z_t_ratios)):\n",
    "    zt_z0 = np.sum(np.log(z_t_ratios[0:i]))\n",
    "    log_zt_z0.append(zt_z0)"
   ]
  },
  {
   "cell_type": "code",
   "execution_count": 34,
   "metadata": {},
   "outputs": [
    {
     "data": {
      "image/png": "[encoded data removed]",
      "text/plain": [
       "<Figure size 432x288 with 1 Axes>"
      ]
     },
     "metadata": {
      "needs_background": "light"
     },
     "output_type": "display_data"
    }
   ],
   "source": [
    "## plotting logs ##\n",
    "plt.plot(beta_grid[1:], log_zt_z0)\n",
    "plt.scatter(beta_grid[1:], log_zt_z0)\n",
    "\n",
    "plt.xlabel(\"Beta Value\")\n",
    "plt.ylabel(\"Log of Z_beta - Z_0\")\n",
    "plt.title(\"Log of Partition Function over Various Betas\")\n",
    "plt.show()"
   ]
  },
  {
   "cell_type": "code",
   "execution_count": null,
   "metadata": {},
   "outputs": [],
   "source": []
  }
 ],
 "metadata": {
  "kernelspec": {
   "display_name": "Python 3",
   "language": "python",
   "name": "python3"
  },
  "language_info": {
   "codemirror_mode": {
    "name": "ipython",
    "version": 3
   },
   "file_extension": ".py",
   "mimetype": "text/x-python",
   "name": "python",
   "nbconvert_exporter": "python",
   "pygments_lexer": "ipython3",
   "version": "3.8.5"
  }
 },
 "nbformat": 4,
 "nbformat_minor": 4
}
